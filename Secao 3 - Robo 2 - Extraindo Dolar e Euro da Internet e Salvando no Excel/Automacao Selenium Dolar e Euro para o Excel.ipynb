{
 "cells": [
  {
   "cell_type": "code",
   "execution_count": 90,
   "id": "bd9da313",
   "metadata": {},
   "outputs": [],
   "source": [
    "#!pip install selenium"
   ]
  },
  {
   "cell_type": "code",
   "execution_count": 91,
   "id": "d1ebae39",
   "metadata": {},
   "outputs": [],
   "source": [
    "#from selenium import webdriver as wds\n",
    "\n",
    "#abrirNavegador = wds.Chrome()\n",
    "\n",
    "#abrirNavegador.get(\"https://www.google.com/\")"
   ]
  },
  {
   "cell_type": "code",
   "execution_count": 92,
   "id": "44e0a3e2",
   "metadata": {},
   "outputs": [
    {
     "name": "stdout",
     "output_type": "stream",
     "text": [
      "5,13\n",
      "5,23\n"
     ]
    }
   ],
   "source": [
    "# Importando o selenium para trabalhar com as páginas da web\n",
    "from selenium import webdriver as wds\n",
    "from selenium.webdriver.common.keys import Keys\n",
    "\n",
    "# Usando o By para trabalhar com as atualizações mais recentes\n",
    "from selenium.webdriver.common.by import By\n",
    "\n",
    "# Importando a biblioteca do pyautogui para trabalhar com tempo e teclas pressionadas\n",
    "import pyautogui as pag\n",
    "\n",
    "# Passamos autorização ao acesso as configurações do Chrome\n",
    "meuNavegador = wds.Chrome()\n",
    "meuNavegador.get(\"https://www.google.com.br/\")\n",
    "\n",
    "# Aguarda um tempo para o PC processar as informações\n",
    "pag.sleep(2)\n",
    "\n",
    "# Procurando pelo elemento NAME e quando encontrar escrever Dolar Hoje\n",
    "meuNavegador.find_element(By.NAME, \"q\").send_keys(\"Dolar Hoje\")\n",
    "# xPath (/html/body/div[1]/div[3]/form/div[1]/div[1]/div[1]/div/div[2]/input)\n",
    "\n",
    "# Aguarda um tempo para o PC processar as informações\n",
    "pag.sleep(2)\n",
    "\n",
    "# Retorna para o campo NAME q\n",
    "# Faz a busca do valor que está digitado no campo NAME q\n",
    "meuNavegador.find_element(By.NAME, \"q\").send_keys(Keys.RETURN)\n",
    "\n",
    "# Aguarda um tempo para o PC processar as informações\n",
    "pag.sleep(2)\n",
    "\n",
    "# Quando possui um elemento, podemos digitar \"find_element\", se houver mais de um devemos utilizar \"find_elements\"\n",
    "# Recupera o valor do dolar hoje no google através do XPATH e colocamos o [0] para pegar o primeiro elemento, \n",
    "# pois está sendo considerado como lista apesar de ser um valor apenas\n",
    "valorDolarPeloGoogle = meuNavegador.find_elements(By.XPATH, r'//*[@id=\"knowledge-currency__updatable-data-column\"]/div[1]/div[2]/span[1]')[0].text\n",
    "\n",
    "print(valorDolarPeloGoogle)\n",
    "\n",
    "#----------------------------------------------------------------------------------------------------------------------\n",
    "\n",
    "# Aguarda um tempo para o PC processar as informações\n",
    "pag.sleep(2)\n",
    "\n",
    "# Procurando pelo elemento NAME e quando encontrar escrever \"\"\n",
    "meuNavegador.find_element(By.NAME, \"q\").send_keys(\"\")\n",
    "\n",
    "pag.sleep(2)\n",
    "\n",
    "# Usando pyautogui para apertar a tecla TAB\n",
    "pag.press('Tab')\n",
    "\n",
    "pag.sleep(2)\n",
    "\n",
    "# Usando pyautogui para apertar a tecla Enter\n",
    "# Enter para limpar o Campo de Pesquisa\n",
    "pag.press('Enter')\n",
    "\n",
    "# Aguarda um tempo para o PC processar as informações\n",
    "pag.sleep(1)\n",
    "\n",
    "# Procurando pelo elemento NAME e quando encontrar escrever Dolar Hoje\n",
    "meuNavegador.find_element(By.NAME, \"q\").send_keys(\"Euro Hoje\")\n",
    "\n",
    "# Aguarda um tempo para o PC processar as informações\n",
    "pag.sleep(0.2)\n",
    "\n",
    "# Usando pyautogui para apertar a tecla Enter\n",
    "# Enter para limpar o Campo de Pesquisa\n",
    "pag.press('Enter')\n",
    "\n",
    "# Aguarda um tempo para o PC processar as informações\n",
    "pag.sleep(2)\n",
    "\n",
    "# Quando possui um elemento, podemos digitar \"find_element\", se houver mais de um devemos utilizar \"find_elements\"\n",
    "# Recupera o valor do dolar hoje no google através do XPATH e colocamos o [0] para pegar o primeiro elemento, \n",
    "# pois está sendo considerado como lista apesar de ser um valor apenas\n",
    "valorEuroPeloGoogle = meuNavegador.find_elements(By.XPATH, r'//*[@id=\"knowledge-currency__updatable-data-column\"]/div[1]/div[2]/span[1]')[0].text\n",
    "\n",
    "print(valorEuroPeloGoogle)\n",
    "\n",
    "# Fecha Navegador\n",
    "meuNavegador.close()"
   ]
  },
  {
   "cell_type": "code",
   "execution_count": 93,
   "id": "aa2d7b79",
   "metadata": {},
   "outputs": [],
   "source": [
    "#!pip install xlsxwriter"
   ]
  },
  {
   "cell_type": "code",
   "execution_count": 94,
   "id": "0c57327b",
   "metadata": {},
   "outputs": [],
   "source": [
    "import xlsxwriter as xlsw # para trabalhar com o excel\n",
    "import os # para abrir excel\n",
    "\n",
    "# Criar Arquivo Excel\n",
    "nomeCaminhoArquivo = r'F:\\\\OneDrive - Rafael\\\\OneDrive\\\\Documentos\\\\Materiais didáticos\\\\Python RPA\\\\Exemplos\\\\Dolar e Euro Google.xlsx'\n",
    "planilhaCriada = xlsw.Workbook(nomeCaminhoArquivo)\n",
    "sheet1 = planilhaCriada.add_worksheet()\n",
    "\n",
    "# Escrevendo nas células\n",
    "sheet1.write(\"A1\", \"Dolar\")\n",
    "sheet1.write(\"B1\", \"Euro\")\n",
    "sheet1.write(\"A2\", valorDolarPeloGoogle)\n",
    "sheet1.write(\"B2\", valorEuroPeloGoogle)\n",
    "sheet1.write(\"A3\", float(valorDolarPeloGoogle.replace(',','.'))) #Converte de texto para número\n",
    "sheet1.write(\"B3\", float(valorEuroPeloGoogle.replace(',','.'))) #Converte de texto para número\n",
    "\n",
    "# Fechando o arquivo do excel que está em 2o plano\n",
    "planilhaCriada.close()\n",
    "\n",
    "# Abre o Arquivo do excel em 1o plano\n",
    "planilhaCriada = os.startfile(nomeCaminhoArquivo)\n",
    "\n",
    "# Aguarda por 4 segundos\n",
    "pag.sleep(4)"
   ]
  },
  {
   "cell_type": "code",
   "execution_count": null,
   "id": "86ea40c5",
   "metadata": {},
   "outputs": [],
   "source": []
  }
 ],
 "metadata": {
  "celltoolbar": "Aucun(e)",
  "kernelspec": {
   "display_name": "Python 3 (ipykernel)",
   "language": "python",
   "name": "python3"
  },
  "language_info": {
   "codemirror_mode": {
    "name": "ipython",
    "version": 3
   },
   "file_extension": ".py",
   "mimetype": "text/x-python",
   "name": "python",
   "nbconvert_exporter": "python",
   "pygments_lexer": "ipython3",
   "version": "3.9.12"
  }
 },
 "nbformat": 4,
 "nbformat_minor": 5
}
